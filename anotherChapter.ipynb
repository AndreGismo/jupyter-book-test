{
 "cells": [
  {
   "cell_type": "markdown",
   "id": "e552dd53",
   "metadata": {},
   "source": [
    "# Another chapter"
   ]
  },
  {
   "cell_type": "markdown",
   "id": "bbfc48e6",
   "metadata": {},
   "source": [
    "This is just another chapter"
   ]
  },
  {
   "cell_type": "markdown",
   "id": "48ccb41a",
   "metadata": {},
   "source": [
    "````{admonition} dropdown here\n",
    ":class: seealso, dropdown\n",
    "Some contents can be dropped down.\n",
    "```{admonition} and besides ...\n",
    ":class: attention\n",
    "... blocks can be nested \n",
    "```\n",
    "````"
   ]
  },
  {
   "cell_type": "markdown",
   "id": "a0b7f8bf",
   "metadata": {},
   "source": [
    "````{margin} \n",
    "```{admonition} this should appear on the side\n",
    ":class: attention\n",
    "because it was created using the margin directive\n",
    "```\n",
    "````"
   ]
  },
  {
   "cell_type": "markdown",
   "id": "eaca6620",
   "metadata": {},
   "source": [
    "Here is a [link to the first chapter](index.ipynb)."
   ]
  },
  {
   "cell_type": "code",
   "execution_count": 1,
   "id": "ae154202",
   "metadata": {},
   "outputs": [],
   "source": [
    "import sys"
   ]
  },
  {
   "cell_type": "code",
   "execution_count": 2,
   "id": "e57fc876",
   "metadata": {},
   "outputs": [
    {
     "name": "stdout",
     "output_type": "stream",
     "text": [
      "3.7.10 (default, Feb 26 2021, 13:06:18) [MSC v.1916 64 bit (AMD64)]\n"
     ]
    }
   ],
   "source": [
    "print(sys.version)"
   ]
  },
  {
   "cell_type": "code",
   "execution_count": 3,
   "id": "fcb25e33",
   "metadata": {},
   "outputs": [
    {
     "name": "stdout",
     "output_type": "stream",
     "text": [
      "Jupyter Book: 0.10.1\n",
      "MyST-NB: 0.12.3\n",
      "Sphinx Book Theme: 0.0.41\n",
      "MyST-Parser: 0.13.7\n",
      "Jupyter-Cache: 0.4.2\n",
      "NbClient: 0.5.3\n"
     ]
    }
   ],
   "source": [
    "!jupyter book --version"
   ]
  },
  {
   "cell_type": "code",
   "execution_count": null,
   "id": "8eb61b62",
   "metadata": {},
   "outputs": [],
   "source": []
  }
 ],
 "metadata": {
  "hide_input": false,
  "kernelspec": {
   "display_name": "Python 3",
   "language": "python",
   "name": "python3"
  },
  "language_info": {
   "codemirror_mode": {
    "name": "ipython",
    "version": 3
   },
   "file_extension": ".py",
   "mimetype": "text/x-python",
   "name": "python",
   "nbconvert_exporter": "python",
   "pygments_lexer": "ipython3",
   "version": "3.7.10"
  },
  "latex_envs": {
   "LaTeX_envs_menu_present": true,
   "autoclose": false,
   "autocomplete": true,
   "bibliofile": "biblio.bib",
   "cite_by": "apalike",
   "current_citInitial": 1,
   "eqLabelWithNumbers": true,
   "eqNumInitial": 1,
   "hotkeys": {
    "equation": "Ctrl-E",
    "itemize": "Ctrl-I"
   },
   "labels_anchors": false,
   "latex_user_defs": false,
   "report_style_numbering": false,
   "user_envs_cfg": false
  },
  "toc": {
   "base_numbering": 1,
   "nav_menu": {},
   "number_sections": true,
   "sideBar": true,
   "skip_h1_title": false,
   "title_cell": "Table of Contents",
   "title_sidebar": "Contents",
   "toc_cell": false,
   "toc_position": {},
   "toc_section_display": true,
   "toc_window_display": false
  },
  "varInspector": {
   "cols": {
    "lenName": 16,
    "lenType": 16,
    "lenVar": 40
   },
   "kernels_config": {
    "python": {
     "delete_cmd_postfix": "",
     "delete_cmd_prefix": "del ",
     "library": "var_list.py",
     "varRefreshCmd": "print(var_dic_list())"
    },
    "r": {
     "delete_cmd_postfix": ") ",
     "delete_cmd_prefix": "rm(",
     "library": "var_list.r",
     "varRefreshCmd": "cat(var_dic_list()) "
    }
   },
   "types_to_exclude": [
    "module",
    "function",
    "builtin_function_or_method",
    "instance",
    "_Feature"
   ],
   "window_display": false
  }
 },
 "nbformat": 4,
 "nbformat_minor": 5
}
