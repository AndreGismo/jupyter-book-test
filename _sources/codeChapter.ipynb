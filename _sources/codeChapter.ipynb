{
 "cells": [
  {
   "cell_type": "markdown",
   "id": "bb13ff23",
   "metadata": {},
   "source": [
    "# Chapter with code"
   ]
  },
  {
   "cell_type": "code",
   "execution_count": null,
   "id": "e020eacf",
   "metadata": {},
   "outputs": [],
   "source": [
    "import pandas as pd\n",
    "import matplotlib.pyplot as plt"
   ]
  },
  {
   "cell_type": "markdown",
   "id": "71b901ea",
   "metadata": {},
   "source": [
    "## Prepare data"
   ]
  },
  {
   "cell_type": "markdown",
   "id": "01cfc8a0",
   "metadata": {},
   "source": [
    "```{admonition} See also:\n",
    ":class: seealso\n",
    "All the commands used here are described in the [pandas documentation](https://pandas.pydata.org/docs/index.html)\n",
    "```"
   ]
  },
  {
   "cell_type": "markdown",
   "id": "5792ac57",
   "metadata": {},
   "source": [
    "First load a dataset [from github](https://github.com/jenfly/opsd):"
   ]
  },
  {
   "cell_type": "code",
   "execution_count": null,
   "id": "dee6bcfa",
   "metadata": {},
   "outputs": [],
   "source": [
    "data = pd.read_csv('https://github.com/jenfly/opsd/raw/master/opsd_germany_daily.csv')"
   ]
  },
  {
   "cell_type": "markdown",
   "id": "b9a81c0c",
   "metadata": {},
   "source": [
    "And take a look:"
   ]
  },
  {
   "cell_type": "code",
   "execution_count": null,
   "id": "c443488c",
   "metadata": {},
   "outputs": [],
   "source": [
    "data"
   ]
  },
  {
   "cell_type": "code",
   "execution_count": null,
   "id": "297412dd",
   "metadata": {},
   "outputs": [],
   "source": [
    "data.dtypes"
   ]
  },
  {
   "cell_type": "markdown",
   "id": "d72b93c4",
   "metadata": {},
   "source": [
    "Let's make the Date column to a `datetime`"
   ]
  },
  {
   "cell_type": "code",
   "execution_count": null,
   "id": "6f62f2f8",
   "metadata": {},
   "outputs": [],
   "source": [
    "data['Date'] = pd.to_datetime(data['Date'])"
   ]
  },
  {
   "cell_type": "markdown",
   "id": "722fa197",
   "metadata": {},
   "source": [
    "And set it as the index:"
   ]
  },
  {
   "cell_type": "code",
   "execution_count": null,
   "id": "5bab0639",
   "metadata": {},
   "outputs": [],
   "source": [
    "data.set_index('Date', inplace=True)"
   ]
  },
  {
   "cell_type": "code",
   "execution_count": null,
   "id": "d050e819",
   "metadata": {},
   "outputs": [],
   "source": [
    "data"
   ]
  },
  {
   "cell_type": "markdown",
   "id": "596bec33",
   "metadata": {},
   "source": [
    "What are the units? See [here](https://github.com/jenfly/opsd/blob/master/time-series-preprocessing.ipynb): it's $GWh$.<br>Rename columns accordingly:"
   ]
  },
  {
   "cell_type": "code",
   "execution_count": null,
   "id": "eeecb86f",
   "metadata": {},
   "outputs": [],
   "source": [
    "data.rename(axis=1, mapper={col: col+' [GWh]' for col in data.columns}, inplace=True)"
   ]
  },
  {
   "cell_type": "code",
   "execution_count": null,
   "id": "3adfe349",
   "metadata": {},
   "outputs": [],
   "source": [
    "data"
   ]
  },
  {
   "cell_type": "markdown",
   "id": "967f2c3b",
   "metadata": {},
   "source": [
    "Looks fine."
   ]
  },
  {
   "cell_type": "markdown",
   "id": "5b81e34b",
   "metadata": {},
   "source": [
    "## Examine data"
   ]
  },
  {
   "cell_type": "markdown",
   "id": "a1b610dc",
   "metadata": {},
   "source": [
    "Now let's have a look at a plot:"
   ]
  },
  {
   "cell_type": "code",
   "execution_count": null,
   "id": "61a0cfa1",
   "metadata": {},
   "outputs": [],
   "source": [
    "plt.figure(figsize=(16,7))\n",
    "for col in data.columns:\n",
    "    plt.plot(data[col], label=col.rstrip('[GWh]'))\n",
    "plt.title('Consumption and generation energy data',fontsize=16)\n",
    "plt.xlabel('Date', fontsize=14)\n",
    "plt.ylabel('Energy [GWh]', fontsize=14)\n",
    "plt.grid()\n",
    "plt.legend();"
   ]
  },
  {
   "cell_type": "markdown",
   "id": "91a645ef",
   "metadata": {},
   "source": [
    "### Total energy consumption"
   ]
  },
  {
   "cell_type": "markdown",
   "id": "6798ef08",
   "metadata": {},
   "source": [
    "__How much energy was consumed each year?__"
   ]
  },
  {
   "cell_type": "code",
   "execution_count": null,
   "id": "aa5b574a",
   "metadata": {},
   "outputs": [],
   "source": [
    "data['year'] = data.index.year"
   ]
  },
  {
   "cell_type": "code",
   "execution_count": null,
   "id": "d05a14c9",
   "metadata": {},
   "outputs": [],
   "source": [
    "# divide by 1000 => TWh\n",
    "consumptions_years = data.groupby(axis=0, by='year').sum()/1000"
   ]
  },
  {
   "cell_type": "code",
   "execution_count": null,
   "id": "faded28f",
   "metadata": {},
   "outputs": [],
   "source": [
    "# rename columns accordingly\n",
    "consumptions_years.rename(axis=1, mapper={col: col.replace('GWh', 'TWh') for col in data.columns},\n",
    "                          inplace=True)"
   ]
  },
  {
   "cell_type": "code",
   "execution_count": null,
   "id": "597e235f",
   "metadata": {},
   "outputs": [],
   "source": [
    "plt.figure(figsize=(16,7))\n",
    "plt.bar(x=consumptions_years.index, height=consumptions_years[consumptions_years.columns[0]])\n",
    "plt.title('Consumption energy data',fontsize=16)\n",
    "plt.xlabel('Date', fontsize=14)\n",
    "plt.ylabel('Energy [TWh]', fontsize=14)\n",
    "plt.grid()"
   ]
  },
  {
   "cell_type": "markdown",
   "id": "e0389081",
   "metadata": {},
   "source": [
    "About the same each year"
   ]
  },
  {
   "cell_type": "markdown",
   "id": "cb132a49",
   "metadata": {},
   "source": [
    "```{admonition} See also\n",
    ":class: seealso\n",
    "- Website of the [Umweltbundesamt](https://www.umweltbundesamt.de/daten/energie/stromverbrauch)\n",
    "- Website of [SMARD](https://www.smard.de/home/marktdaten?marketDataAttributes=%7B%22resolution%22:%22year%22,%22from%22:1420066800000,%22to%22:1483311599999,%22moduleIds%22:%5B5000410%5D,%22selectedCategory%22:null,%22activeChart%22:true,%22style%22:%22color%22,%22region%22:%22DE%22%7D)\n",
    "```"
   ]
  },
  {
   "cell_type": "markdown",
   "id": "9ce5d246",
   "metadata": {},
   "source": [
    "__How is the consumption for one year?__"
   ]
  },
  {
   "cell_type": "code",
   "execution_count": null,
   "id": "0bdc4e61",
   "metadata": {},
   "outputs": [],
   "source": [
    "plt.figure(figsize=(16,7))\n",
    "plt.plot(data.loc['2017', 'Consumption [GWh]'], '-x')\n",
    "plt.title('Consumption energy data',fontsize=16)\n",
    "plt.xlabel('Date', fontsize=14)\n",
    "plt.ylabel('Energy [GWh]', fontsize=14)\n",
    "plt.grid()"
   ]
  },
  {
   "cell_type": "markdown",
   "id": "41ca3795",
   "metadata": {},
   "source": [
    "Looks like 52 weeks a year, with the weekends having lower demand.<br>Look for the mean consumtion per weekday:"
   ]
  },
  {
   "cell_type": "code",
   "execution_count": null,
   "id": "363acb5b",
   "metadata": {},
   "outputs": [],
   "source": [
    "data2017daily = pd.DataFrame(data.loc['2017', 'Consumption [GWh]'])\n",
    "data2017daily['day'] = data2017daily.index.weekday\n",
    "\n",
    "# mean for the weekdays\n",
    "data2017dailyGrouped = data2017daily.groupby(axis=0, by='day').mean()"
   ]
  },
  {
   "cell_type": "code",
   "execution_count": null,
   "id": "2cf51997",
   "metadata": {},
   "outputs": [],
   "source": [
    "plt.figure(figsize=(16,7))\n",
    "plt.bar(x=data2017dailyGrouped.index, height=data2017dailyGrouped['Consumption [GWh]'])\n",
    "plt.title('Consumption energy data',fontsize=16)\n",
    "plt.xlabel('Date', fontsize=14)\n",
    "plt.ylabel('Energy [GWh]', fontsize=14)\n",
    "plt.grid()"
   ]
  },
  {
   "cell_type": "markdown",
   "id": "da6d12ff",
   "metadata": {},
   "source": [
    "```{admonition} Hint\n",
    ":class: hint\n",
    "Numbers 0 to 6 represent the weekdays monday to sunday (see [pandas](https://pandas.pydata.org/pandas-docs/stable/reference/api/pandas.DatetimeIndex.html?highlight=datetimeindex#pandas.DatetimeIndex))\n",
    "```"
   ]
  },
  {
   "cell_type": "markdown",
   "id": "a0bb3a66",
   "metadata": {},
   "source": [
    "Confirmed: weekends have lower consumption."
   ]
  },
  {
   "cell_type": "markdown",
   "id": "8db10c91",
   "metadata": {},
   "source": [
    "### Total energy generation by renewables"
   ]
  },
  {
   "cell_type": "markdown",
   "id": "a93a008d",
   "metadata": {},
   "source": [
    "__how much energy was produced each year?__"
   ]
  },
  {
   "cell_type": "code",
   "execution_count": null,
   "id": "456f43db",
   "metadata": {},
   "outputs": [],
   "source": [
    "bw = 0.35\n",
    "plt.figure(figsize=(16,7))\n",
    "plt.bar(x=consumptions_years.index-bw/2, height=consumptions_years[consumptions_years.columns[1]], label='wind',\n",
    "       width=bw)\n",
    "plt.bar(x=consumptions_years.index+bw/2, height=consumptions_years[consumptions_years.columns[2]], label='solar',\n",
    "       width=bw)\n",
    "\n",
    "plt.title('Generation energy data',fontsize=16)\n",
    "plt.xlabel('Date', fontsize=14)\n",
    "plt.ylabel('Energy [TWh]', fontsize=14)\n",
    "plt.grid()\n",
    "plt.legend();"
   ]
  },
  {
   "cell_type": "markdown",
   "id": "089200bf",
   "metadata": {},
   "source": [
    "```{admonition} Info\n",
    ":class: hint\n",
    "There was already generation by renewables before 2010, there is just no data provided in the dataset\n",
    "```"
   ]
  },
  {
   "cell_type": "markdown",
   "id": "a4dd5d1d",
   "metadata": {},
   "source": [
    "Significant rise in generation by windpower since 2014, only slow rise in generation by pv."
   ]
  },
  {
   "cell_type": "code",
   "execution_count": null,
   "id": "3cbe3517",
   "metadata": {},
   "outputs": [],
   "source": []
  }
 ],
 "metadata": {
  "hide_input": false,
  "kernelspec": {
   "display_name": "Python 3",
   "language": "python",
   "name": "python3"
  },
  "language_info": {
   "codemirror_mode": {
    "name": "ipython",
    "version": 3
   },
   "file_extension": ".py",
   "mimetype": "text/x-python",
   "name": "python",
   "nbconvert_exporter": "python",
   "pygments_lexer": "ipython3",
   "version": "3.7.10"
  },
  "latex_envs": {
   "LaTeX_envs_menu_present": true,
   "autoclose": false,
   "autocomplete": true,
   "bibliofile": "biblio.bib",
   "cite_by": "apalike",
   "current_citInitial": 1,
   "eqLabelWithNumbers": true,
   "eqNumInitial": 1,
   "hotkeys": {
    "equation": "Ctrl-E",
    "itemize": "Ctrl-I"
   },
   "labels_anchors": false,
   "latex_user_defs": false,
   "report_style_numbering": false,
   "user_envs_cfg": false
  },
  "toc": {
   "base_numbering": 1,
   "nav_menu": {},
   "number_sections": true,
   "sideBar": true,
   "skip_h1_title": false,
   "title_cell": "Table of Contents",
   "title_sidebar": "Contents",
   "toc_cell": false,
   "toc_position": {},
   "toc_section_display": true,
   "toc_window_display": true
  },
  "varInspector": {
   "cols": {
    "lenName": 16,
    "lenType": 16,
    "lenVar": 40
   },
   "kernels_config": {
    "python": {
     "delete_cmd_postfix": "",
     "delete_cmd_prefix": "del ",
     "library": "var_list.py",
     "varRefreshCmd": "print(var_dic_list())"
    },
    "r": {
     "delete_cmd_postfix": ") ",
     "delete_cmd_prefix": "rm(",
     "library": "var_list.r",
     "varRefreshCmd": "cat(var_dic_list()) "
    }
   },
   "types_to_exclude": [
    "module",
    "function",
    "builtin_function_or_method",
    "instance",
    "_Feature"
   ],
   "window_display": false
  }
 },
 "nbformat": 4,
 "nbformat_minor": 5
}
